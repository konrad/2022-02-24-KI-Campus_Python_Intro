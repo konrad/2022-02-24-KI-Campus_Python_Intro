{
 "cells": [
  {
   "cell_type": "markdown",
   "id": "brilliant-unemployment",
   "metadata": {},
   "source": [
    "# Python Grundlagen"
   ]
  },
  {
   "cell_type": "markdown",
   "id": "floppy-richardson",
   "metadata": {},
   "source": [
    "- KUF: Wie bereits angekündigt, wird in diesem Kurs Python über Jupyter Notebooks genutzt. Sie können innerhalb dieses Kurses auf die zum Kurs gehörenden Notebooks zugreifen ohne hierfür ein Software installieren zu müssen. Klicken Sie dazu einfach jeweils auf den Link des Notebooks, welches sie öffnen wollen. Dieses öffnet sich dann in einem anderen Browserfenster. \n",
    "- KB: Schauen Sie sich erst einmal im Jupyter Notebook um. Sie können neue Zellen erstellen und den Typ der Zellen auswählen. Dabei können Sie zwischen Code und Markdown unterscheiden. Mit Markdown können Sie Text formatieren. Zum Beispiel können Sie ein Wort durch Umklammerung mit einem Sternchen *kursiv* schreiben. Mit zwei Sternchen wird der Text **fett**.\n"
   ]
  },
  {
   "cell_type": "markdown",
   "id": "homeless-institution",
   "metadata": {},
   "source": [
    "- KUF: Beginnen Sie mit einer einfachen Rechenoperation und addieren 10 und 5. \n",
    "Dazu geben Sie 10, Plus und 5 ein und führen die Zelle mit Shift und Enter aus.\n",
    "Alternativ können Sie den Run-Button in der Menueleiste klicken.\n",
    "Super - wir haben eine Taschenrechner."
   ]
  },
  {
   "cell_type": "code",
   "execution_count": 2,
   "id": "finnish-stockholm",
   "metadata": {},
   "outputs": [
    {
     "data": {
      "text/plain": [
       "15"
      ]
     },
     "execution_count": 2,
     "metadata": {},
     "output_type": "execute_result"
    }
   ],
   "source": [
    "10 + 5"
   ]
  },
  {
   "cell_type": "code",
   "execution_count": 36,
   "id": "independent-courtesy",
   "metadata": {},
   "outputs": [],
   "source": [
    "# KUF: Auch andere Operationen wie Divison funktionieren. \n",
    "# Zum Beispiel 3 geteilt durch 2"
   ]
  },
  {
   "cell_type": "code",
   "execution_count": 4,
   "id": "critical-gender",
   "metadata": {},
   "outputs": [
    {
     "data": {
      "text/plain": [
       "1.5"
      ]
     },
     "execution_count": 4,
     "metadata": {},
     "output_type": "execute_result"
    }
   ],
   "source": [
    "3 / 2"
   ]
  },
  {
   "cell_type": "code",
   "execution_count": 5,
   "id": "based-trance",
   "metadata": {},
   "outputs": [],
   "source": [
    "# KB: Jetzt soll eine erste Python-Funktion genutzt werden. Beginnen Sie mit der print- \n",
    "# Funktion, die Werte ausgibt. \n",
    "# Für den Funktionsaufruf müssen Sie den Funktionsnamen und eine öffnende\n",
    "# und eine schließende Klammer schreiben.\n",
    "# In die Klammer schreiben Sie ein sogennantes Argument,\n",
    "# in dem Fall eine Zeichenkette, was durch Anführungszeichen anzeigt wird.\n"
   ]
  },
  {
   "cell_type": "code",
   "execution_count": 6,
   "id": "neither-chick",
   "metadata": {},
   "outputs": [
    {
     "name": "stdout",
     "output_type": "stream",
     "text": [
      "Hello World\n"
     ]
    }
   ],
   "source": [
    "print(\"Hello World\")"
   ]
  },
  {
   "cell_type": "code",
   "execution_count": 7,
   "id": "federal-mention",
   "metadata": {},
   "outputs": [],
   "source": [
    "# KUF: Ein wichtiges Konzept beim Programmieren mit Python sind die \n",
    "# sogenannten Variablen. Variablen können viele unterschiedlichste \n",
    "# Dinge enthalten, beispielsweise Zahlen, Worte, Sätze, Bilder, Listen. \n",
    "# Um eine Variable zu definieren wird zunächst der Name der Variable, \n",
    "# dann ein Gleichheitszeichen und dann das geschrieben, was die Variable \n",
    "# enthalten soll.  Betrachten Sie die folgenden Beispiele."
   ]
  },
  {
   "cell_type": "code",
   "execution_count": 8,
   "id": "radical-institute",
   "metadata": {},
   "outputs": [],
   "source": [
    "# KB: Hier wird der Variablen number_of_plants der Wert 20 - \n",
    "# eine Ganzzahl auch Integer - zugeordnent.\n",
    "number_of_plants = 20"
   ]
  },
  {
   "cell_type": "code",
   "execution_count": 9,
   "id": "descending-association",
   "metadata": {},
   "outputs": [],
   "source": [
    "# KB: Im nächsten Beipiel weisen Sie eine Zeichenkette zu. Diese werden\n",
    "# wie vorhin gesagt durch Anführungszeichen ein- und ausgeleitet.\n",
    "\n",
    "wise_sentence = \"All generalisations are wrong.\""
   ]
  },
  {
   "cell_type": "code",
   "execution_count": 10,
   "id": "sonic-portsmouth",
   "metadata": {},
   "outputs": [],
   "source": [
    "# KUF: Als nächstes schauen Sie sich einen weiteren Python-Datentyp an.\n",
    "# Hierbei handelt es sich um eine Liste, die verschiedene Objekte \n",
    "# zusammenfasst:\n",
    "\n",
    "bag_of_things = [3, \"sky\", \"unicorns\", 6.23]"
   ]
  },
  {
   "cell_type": "code",
   "execution_count": 11,
   "id": "institutional-pilot",
   "metadata": {},
   "outputs": [],
   "source": [
    "# KB: Ein weiterer häufig verwendeter Datentyp sind die Dictionaries in denen\n",
    "# Schlüssel- und Werte-Paare gespeichert werden. Hier Beispielweise\n",
    "# die Namen von Früchten und ihren Farben.\n",
    "\n",
    "fruits_and_colors = {\"banana\": \"yellow\",\n",
    "                     \"strawberry\": \"red\",\n",
    "                     \"blueberry\": \"blue\"}"
   ]
  },
  {
   "cell_type": "markdown",
   "id": "obvious-customer",
   "metadata": {},
   "source": [
    "### Nutzung weiterer Funktionen und Methoden."
   ]
  },
  {
   "cell_type": "code",
   "execution_count": 12,
   "id": "spread-justice",
   "metadata": {},
   "outputs": [],
   "source": [
    " \n",
    "# KUF: Python beinhaltet viele vorgefertigte Befehle,\n",
    "# um mit den Variablen zu hantieren. Hierbei unterscheiden sich \n",
    "# sogenannte Funktionen von Methoden. Eine Funktion wird angewendet \n",
    "# indem ihr Name geschrieben wird und dahinter in runden Klammern \n",
    "# das Objekt, auf das die Funktion angewendet werden soll. \n",
    "# Eine Methode ist ein spezielle Funktion die an eine bestimmtes\n",
    "# Objekt - wie zum Beispiel eine Zeichenketten - geknüpft ist.\n",
    "# Eine Methode wird angewendet, indem hinter das Objekt, ein Punkt \n",
    "# und dann der Name für die Methode mit abschließenden runden \n",
    "# Klammern geschrieben wird. Den Unterschied zeigt das folgende Beispiel.\n",
    "\n"
   ]
  },
  {
   "cell_type": "code",
   "execution_count": 13,
   "id": "monetary-density",
   "metadata": {},
   "outputs": [
    {
     "data": {
      "text/plain": [
       "30"
      ]
     },
     "execution_count": 13,
     "metadata": {},
     "output_type": "execute_result"
    }
   ],
   "source": [
    "# KB: Hier nutzen Sie die Funktion len um die Länge einer Zeichenkette zu berechnen\n",
    "\n",
    "len(wise_sentence)"
   ]
  },
  {
   "cell_type": "code",
   "execution_count": 14,
   "id": "rotary-consequence",
   "metadata": {},
   "outputs": [
    {
     "data": {
      "text/plain": [
       "'ALL GENERALISATIONS ARE WRONG.'"
      ]
     },
     "execution_count": 14,
     "metadata": {},
     "output_type": "execute_result"
    }
   ],
   "source": [
    "# KB: Hier nutzen Sie die Methode upper, die alle Zeichenketten-Objekte besitzen \n",
    "# um alle Zeichen der Zeichenkette großgeschrieben zurückgeben zu lassen.\n",
    "wise_sentence.upper()"
   ]
  },
  {
   "cell_type": "code",
   "execution_count": 15,
   "id": "descending-handbook",
   "metadata": {},
   "outputs": [
    {
     "data": {
      "text/plain": [
       "3"
      ]
     },
     "execution_count": 15,
     "metadata": {},
     "output_type": "execute_result"
    }
   ],
   "source": [
    "# KB: Die vorherige Methode benötigt kein zusätzliche Argument. Jetzt\n",
    "# werden Sie die Methode count nutzen um ein Zeichenkette in einer anderen zu suchen.\n",
    "# Die Suchzeichenkette ist in diesem Falle ein \"e\".\n",
    "wise_sentence.count(\"e\")"
   ]
  },
  {
   "cell_type": "code",
   "execution_count": 16,
   "id": "spread-broadway",
   "metadata": {},
   "outputs": [
    {
     "data": {
      "text/plain": [
       "'All generalisations are right.'"
      ]
     },
     "execution_count": 16,
     "metadata": {},
     "output_type": "execute_result"
    }
   ],
   "source": [
    "# KB: Jetzt werden Sie die Methode replace nutzen, die nicht nur ein sondern gleich zwei \n",
    "# Argumente benötigt. Zuerst die Zeichenkette die ersetzt werden soll, und dann\n",
    "# die Zeichenkette, die stattdessen eingefügt wird.\n",
    "wise_sentence.replace(\"wrong\", \"right\")"
   ]
  },
  {
   "cell_type": "code",
   "execution_count": 17,
   "id": "afraid-liability",
   "metadata": {},
   "outputs": [],
   "source": [
    "# KUF: Bisher haben Sie nur die Kern-Sprachelement von Python genutzt.\n",
    "# Python bringt aber eine reichhaltige Sammlung an Erweiterungen mit sich.\n",
    "# Hier nutzen Sie zum Beipsiel das Package math. Dieses laden Sie in\n",
    "# das momentan genutzte Jupyter Notebook mit dem Keyword \"import\" und\n",
    "# dem Namen des Packages."
   ]
  },
  {
   "cell_type": "code",
   "execution_count": 18,
   "id": "valid-dealing",
   "metadata": {},
   "outputs": [],
   "source": [
    "import math"
   ]
  },
  {
   "cell_type": "code",
   "execution_count": 19,
   "id": "paperback-vintage",
   "metadata": {},
   "outputs": [],
   "source": [
    "# KUF: Das Package bring nun mathematische Konstanten und Operationen mit.\n",
    "# Zum Beispiel die Zahl pi:"
   ]
  },
  {
   "cell_type": "code",
   "execution_count": 20,
   "id": "artistic-workstation",
   "metadata": {},
   "outputs": [
    {
     "data": {
      "text/plain": [
       "3.141592653589793"
      ]
     },
     "execution_count": 20,
     "metadata": {},
     "output_type": "execute_result"
    }
   ],
   "source": [
    "math.pi"
   ]
  },
  {
   "cell_type": "code",
   "execution_count": 21,
   "id": "defined-bryan",
   "metadata": {},
   "outputs": [],
   "source": [
    "# KUF: ... oder die mögliche die Möglichkeit den Cosinus zu berechnen."
   ]
  },
  {
   "cell_type": "code",
   "execution_count": 22,
   "id": "southern-amendment",
   "metadata": {},
   "outputs": [
    {
     "data": {
      "text/plain": [
       "-1.0"
      ]
     },
     "execution_count": 22,
     "metadata": {},
     "output_type": "execute_result"
    }
   ],
   "source": [
    "math.cos(math.pi)"
   ]
  },
  {
   "cell_type": "markdown",
   "id": "collective-guatemala",
   "metadata": {},
   "source": [
    "# Luftqualität und Wetter-Daten kombinieren"
   ]
  },
  {
   "cell_type": "code",
   "execution_count": 23,
   "id": "hispanic-poverty",
   "metadata": {},
   "outputs": [],
   "source": [
    "# KUF: Mit ihren grundlegenden Python-Fähigkeiten sollen Sie jetzt eine \n",
    "# kleine Analyse von zwei Datensätzen durchführen.\n",
    "\n",
    "# Hierbei nutzen Sie das populäre Package pandas, das besonder zum\n",
    "# einlesen und bearbeiten von tabelarischen Daten sinnvoll ist.\n",
    "# Häufig werden hier Abkürzungen für die geladenen Packages vergeben.\n",
    "# Für pandas ist pd üblich.\n",
    "\n",
    "import pandas as pd"
   ]
  },
  {
   "cell_type": "code",
   "execution_count": 24,
   "id": "intensive-security",
   "metadata": {},
   "outputs": [],
   "source": [
    "# KB: Zu allererst nutzen Sie die Funktion read_csv aus pandas, was Sie mit pd abgekürzt haben\n",
    "# um die Datei \"weather_cologne_selected.csv\" einzulesen. In diesem Fall\n",
    "# trennt der Punkt nicht Objekt von einer Methode ab, sondern den Package-Namen \n",
    "# bzw. dessen Abkürzung von einer Funktion.\n",
    "\n",
    "weather = pd.read_csv(\"weather_cologne_selected.csv\")"
   ]
  },
  {
   "cell_type": "code",
   "execution_count": 25,
   "id": "alone-allen",
   "metadata": {},
   "outputs": [
    {
     "data": {
      "text/html": [
       "<div>\n",
       "<style scoped>\n",
       "    .dataframe tbody tr th:only-of-type {\n",
       "        vertical-align: middle;\n",
       "    }\n",
       "\n",
       "    .dataframe tbody tr th {\n",
       "        vertical-align: top;\n",
       "    }\n",
       "\n",
       "    .dataframe thead th {\n",
       "        text-align: right;\n",
       "    }\n",
       "</style>\n",
       "<table border=\"1\" class=\"dataframe\">\n",
       "  <thead>\n",
       "    <tr style=\"text-align: right;\">\n",
       "      <th></th>\n",
       "      <th>date</th>\n",
       "      <th>tmin</th>\n",
       "      <th>tmax</th>\n",
       "    </tr>\n",
       "  </thead>\n",
       "  <tbody>\n",
       "    <tr>\n",
       "      <th>0</th>\n",
       "      <td>2020-11-01</td>\n",
       "      <td>12.8</td>\n",
       "      <td>18.2</td>\n",
       "    </tr>\n",
       "    <tr>\n",
       "      <th>1</th>\n",
       "      <td>2020-11-02</td>\n",
       "      <td>11.7</td>\n",
       "      <td>21.2</td>\n",
       "    </tr>\n",
       "    <tr>\n",
       "      <th>2</th>\n",
       "      <td>2020-11-03</td>\n",
       "      <td>7.3</td>\n",
       "      <td>13.8</td>\n",
       "    </tr>\n",
       "    <tr>\n",
       "      <th>3</th>\n",
       "      <td>2020-11-04</td>\n",
       "      <td>2.6</td>\n",
       "      <td>11.7</td>\n",
       "    </tr>\n",
       "    <tr>\n",
       "      <th>4</th>\n",
       "      <td>2020-11-05</td>\n",
       "      <td>0.9</td>\n",
       "      <td>10.3</td>\n",
       "    </tr>\n",
       "    <tr>\n",
       "      <th>...</th>\n",
       "      <td>...</td>\n",
       "      <td>...</td>\n",
       "      <td>...</td>\n",
       "    </tr>\n",
       "    <tr>\n",
       "      <th>360</th>\n",
       "      <td>2021-10-27</td>\n",
       "      <td>8.9</td>\n",
       "      <td>17.3</td>\n",
       "    </tr>\n",
       "    <tr>\n",
       "      <th>361</th>\n",
       "      <td>2021-10-28</td>\n",
       "      <td>8.2</td>\n",
       "      <td>15.8</td>\n",
       "    </tr>\n",
       "    <tr>\n",
       "      <th>362</th>\n",
       "      <td>2021-10-29</td>\n",
       "      <td>8.4</td>\n",
       "      <td>17.5</td>\n",
       "    </tr>\n",
       "    <tr>\n",
       "      <th>363</th>\n",
       "      <td>2021-10-30</td>\n",
       "      <td>10.8</td>\n",
       "      <td>14.5</td>\n",
       "    </tr>\n",
       "    <tr>\n",
       "      <th>364</th>\n",
       "      <td>2021-10-31</td>\n",
       "      <td>9.0</td>\n",
       "      <td>17.9</td>\n",
       "    </tr>\n",
       "  </tbody>\n",
       "</table>\n",
       "<p>365 rows × 3 columns</p>\n",
       "</div>"
      ],
      "text/plain": [
       "           date  tmin  tmax\n",
       "0    2020-11-01  12.8  18.2\n",
       "1    2020-11-02  11.7  21.2\n",
       "2    2020-11-03   7.3  13.8\n",
       "3    2020-11-04   2.6  11.7\n",
       "4    2020-11-05   0.9  10.3\n",
       "..          ...   ...   ...\n",
       "360  2021-10-27   8.9  17.3\n",
       "361  2021-10-28   8.2  15.8\n",
       "362  2021-10-29   8.4  17.5\n",
       "363  2021-10-30  10.8  14.5\n",
       "364  2021-10-31   9.0  17.9\n",
       "\n",
       "[365 rows x 3 columns]"
      ]
     },
     "execution_count": 25,
     "metadata": {},
     "output_type": "execute_result"
    }
   ],
   "source": [
    "# KUF: Die Funktion gibt eine Datenstruktur, die DataFrame genannt wird, zurück, die Sie in \n",
    "# der Variablen weather ablegen. Diese können Sie sich jetzt anzeigen lassen. Dabei\n",
    "# werden nur die ersten 5 und letzten 5 Zeilen dargestellt.\n",
    "\n",
    "weather"
   ]
  },
  {
   "cell_type": "code",
   "execution_count": 26,
   "id": "liable-reality",
   "metadata": {},
   "outputs": [
    {
     "data": {
      "text/html": [
       "<div>\n",
       "<style scoped>\n",
       "    .dataframe tbody tr th:only-of-type {\n",
       "        vertical-align: middle;\n",
       "    }\n",
       "\n",
       "    .dataframe tbody tr th {\n",
       "        vertical-align: top;\n",
       "    }\n",
       "\n",
       "    .dataframe thead th {\n",
       "        text-align: right;\n",
       "    }\n",
       "</style>\n",
       "<table border=\"1\" class=\"dataframe\">\n",
       "  <thead>\n",
       "    <tr style=\"text-align: right;\">\n",
       "      <th></th>\n",
       "      <th>tmin</th>\n",
       "      <th>tmax</th>\n",
       "    </tr>\n",
       "  </thead>\n",
       "  <tbody>\n",
       "    <tr>\n",
       "      <th>count</th>\n",
       "      <td>365.000000</td>\n",
       "      <td>365.00000</td>\n",
       "    </tr>\n",
       "    <tr>\n",
       "      <th>mean</th>\n",
       "      <td>7.621918</td>\n",
       "      <td>15.70137</td>\n",
       "    </tr>\n",
       "    <tr>\n",
       "      <th>std</th>\n",
       "      <td>5.911008</td>\n",
       "      <td>7.56020</td>\n",
       "    </tr>\n",
       "    <tr>\n",
       "      <th>min</th>\n",
       "      <td>-10.100000</td>\n",
       "      <td>-3.60000</td>\n",
       "    </tr>\n",
       "    <tr>\n",
       "      <th>25%</th>\n",
       "      <td>3.100000</td>\n",
       "      <td>10.10000</td>\n",
       "    </tr>\n",
       "    <tr>\n",
       "      <th>50%</th>\n",
       "      <td>7.100000</td>\n",
       "      <td>15.60000</td>\n",
       "    </tr>\n",
       "    <tr>\n",
       "      <th>75%</th>\n",
       "      <td>12.700000</td>\n",
       "      <td>22.00000</td>\n",
       "    </tr>\n",
       "    <tr>\n",
       "      <th>max</th>\n",
       "      <td>21.600000</td>\n",
       "      <td>34.60000</td>\n",
       "    </tr>\n",
       "  </tbody>\n",
       "</table>\n",
       "</div>"
      ],
      "text/plain": [
       "             tmin       tmax\n",
       "count  365.000000  365.00000\n",
       "mean     7.621918   15.70137\n",
       "std      5.911008    7.56020\n",
       "min    -10.100000   -3.60000\n",
       "25%      3.100000   10.10000\n",
       "50%      7.100000   15.60000\n",
       "75%     12.700000   22.00000\n",
       "max     21.600000   34.60000"
      ]
     },
     "execution_count": 26,
     "metadata": {},
     "output_type": "execute_result"
    }
   ],
   "source": [
    "# KB: Mit der Methode describe können Sie sich für alle numerischen Spalten - in diesem\n",
    "# Fall tmin für die Minimaltemperatur und tmax für die Maximaltemperatur - \n",
    "# statistische Kennziffern wie den Mittelwert (mean), die Standardabweichtung (std) u.ä. \n",
    "# anzeigen lassen.\n",
    "\n",
    "weather.describe()"
   ]
  },
  {
   "cell_type": "code",
   "execution_count": 27,
   "id": "outer-essay",
   "metadata": {},
   "outputs": [
    {
     "data": {
      "image/png": "[encoded data removed]",
      "text/plain": [
       "<Figure size 432x288 with 1 Axes>"
      ]
     },
     "metadata": {
      "needs_background": "light"
     },
     "output_type": "display_data"
    }
   ],
   "source": [
    "# KUF: Mit pandas können Sie sogar Graphiken erzeugen. Hier können Sie \n",
    "# zum Beispiel den Zusammenhang von der Minimal- und Maximaltemperatur eines\n",
    "# Tages durch ein Streudiagramm visualisieren.\n",
    "\n",
    "fig = weather.plot.scatter(x=\"tmin\", y=\"tmax\")"
   ]
  },
  {
   "cell_type": "code",
   "execution_count": 28,
   "id": "latter-matthew",
   "metadata": {},
   "outputs": [],
   "source": [
    "# KB: Nun soll ein zweiter Datensatz zur Luftqualität hinzugefügt werden.\n",
    "# Auch hier nutzen Sie die Funktion read_csv von pandas \n",
    "# um die Daten aus der Datei \"air_qualities_cologne.csv\" einzulesen.\n",
    "\n",
    "air_quality = pd.read_csv(\"air_qualities_cologne.csv\")"
   ]
  },
  {
   "cell_type": "code",
   "execution_count": 29,
   "id": "professional-cattle",
   "metadata": {},
   "outputs": [
    {
     "data": {
      "text/html": [
       "<div>\n",
       "<style scoped>\n",
       "    .dataframe tbody tr th:only-of-type {\n",
       "        vertical-align: middle;\n",
       "    }\n",
       "\n",
       "    .dataframe tbody tr th {\n",
       "        vertical-align: top;\n",
       "    }\n",
       "\n",
       "    .dataframe thead th {\n",
       "        text-align: right;\n",
       "    }\n",
       "</style>\n",
       "<table border=\"1\" class=\"dataframe\">\n",
       "  <thead>\n",
       "    <tr style=\"text-align: right;\">\n",
       "      <th></th>\n",
       "      <th>Stationscode</th>\n",
       "      <th>Datum</th>\n",
       "      <th>Uhrzeit</th>\n",
       "      <th>Feinstaub</th>\n",
       "      <th>Ozon</th>\n",
       "      <th>Stickstoffdioxid</th>\n",
       "      <th>Luftqualitätsindex</th>\n",
       "    </tr>\n",
       "  </thead>\n",
       "  <tbody>\n",
       "    <tr>\n",
       "      <th>0</th>\n",
       "      <td>DENW211</td>\n",
       "      <td>2020-11-01</td>\n",
       "      <td>01:00</td>\n",
       "      <td>16.0</td>\n",
       "      <td>NaN</td>\n",
       "      <td>18.0</td>\n",
       "      <td>sehr gut</td>\n",
       "    </tr>\n",
       "    <tr>\n",
       "      <th>1</th>\n",
       "      <td>DENW211</td>\n",
       "      <td>2020-11-01</td>\n",
       "      <td>02:00</td>\n",
       "      <td>16.0</td>\n",
       "      <td>NaN</td>\n",
       "      <td>22.0</td>\n",
       "      <td>gut</td>\n",
       "    </tr>\n",
       "    <tr>\n",
       "      <th>2</th>\n",
       "      <td>DENW211</td>\n",
       "      <td>2020-11-01</td>\n",
       "      <td>03:00</td>\n",
       "      <td>16.0</td>\n",
       "      <td>NaN</td>\n",
       "      <td>21.0</td>\n",
       "      <td>gut</td>\n",
       "    </tr>\n",
       "    <tr>\n",
       "      <th>3</th>\n",
       "      <td>DENW211</td>\n",
       "      <td>2020-11-01</td>\n",
       "      <td>04:00</td>\n",
       "      <td>16.0</td>\n",
       "      <td>NaN</td>\n",
       "      <td>22.0</td>\n",
       "      <td>gut</td>\n",
       "    </tr>\n",
       "    <tr>\n",
       "      <th>4</th>\n",
       "      <td>DENW211</td>\n",
       "      <td>2020-11-01</td>\n",
       "      <td>05:00</td>\n",
       "      <td>16.0</td>\n",
       "      <td>NaN</td>\n",
       "      <td>NaN</td>\n",
       "      <td>sehr gut</td>\n",
       "    </tr>\n",
       "    <tr>\n",
       "      <th>...</th>\n",
       "      <td>...</td>\n",
       "      <td>...</td>\n",
       "      <td>...</td>\n",
       "      <td>...</td>\n",
       "      <td>...</td>\n",
       "      <td>...</td>\n",
       "      <td>...</td>\n",
       "    </tr>\n",
       "    <tr>\n",
       "      <th>34943</th>\n",
       "      <td>DENW059</td>\n",
       "      <td>2021-10-30</td>\n",
       "      <td>22:00</td>\n",
       "      <td>11.0</td>\n",
       "      <td>31.0</td>\n",
       "      <td>19.0</td>\n",
       "      <td>sehr gut</td>\n",
       "    </tr>\n",
       "    <tr>\n",
       "      <th>34944</th>\n",
       "      <td>DENW059</td>\n",
       "      <td>2021-10-30</td>\n",
       "      <td>23:00</td>\n",
       "      <td>11.0</td>\n",
       "      <td>29.0</td>\n",
       "      <td>NaN</td>\n",
       "      <td>sehr gut</td>\n",
       "    </tr>\n",
       "    <tr>\n",
       "      <th>34945</th>\n",
       "      <td>DENW059</td>\n",
       "      <td>2021-10-30</td>\n",
       "      <td>24:00</td>\n",
       "      <td>11.0</td>\n",
       "      <td>16.0</td>\n",
       "      <td>21.0</td>\n",
       "      <td>gut</td>\n",
       "    </tr>\n",
       "    <tr>\n",
       "      <th>34946</th>\n",
       "      <td>DENW059</td>\n",
       "      <td>2021-10-31</td>\n",
       "      <td>01:00</td>\n",
       "      <td>10.0</td>\n",
       "      <td>7.0</td>\n",
       "      <td>17.0</td>\n",
       "      <td>sehr gut</td>\n",
       "    </tr>\n",
       "    <tr>\n",
       "      <th>34947</th>\n",
       "      <td>DENW059</td>\n",
       "      <td>2021-10-31</td>\n",
       "      <td>02:00</td>\n",
       "      <td>10.0</td>\n",
       "      <td>4.0</td>\n",
       "      <td>10.0</td>\n",
       "      <td>sehr gut</td>\n",
       "    </tr>\n",
       "  </tbody>\n",
       "</table>\n",
       "<p>34948 rows × 7 columns</p>\n",
       "</div>"
      ],
      "text/plain": [
       "      Stationscode       Datum Uhrzeit  Feinstaub  Ozon  Stickstoffdioxid  \\\n",
       "0          DENW211  2020-11-01   01:00       16.0   NaN              18.0   \n",
       "1          DENW211  2020-11-01   02:00       16.0   NaN              22.0   \n",
       "2          DENW211  2020-11-01   03:00       16.0   NaN              21.0   \n",
       "3          DENW211  2020-11-01   04:00       16.0   NaN              22.0   \n",
       "4          DENW211  2020-11-01   05:00       16.0   NaN               NaN   \n",
       "...            ...         ...     ...        ...   ...               ...   \n",
       "34943      DENW059  2021-10-30   22:00       11.0  31.0              19.0   \n",
       "34944      DENW059  2021-10-30   23:00       11.0  29.0               NaN   \n",
       "34945      DENW059  2021-10-30   24:00       11.0  16.0              21.0   \n",
       "34946      DENW059  2021-10-31   01:00       10.0   7.0              17.0   \n",
       "34947      DENW059  2021-10-31   02:00       10.0   4.0              10.0   \n",
       "\n",
       "      Luftqualitätsindex  \n",
       "0               sehr gut  \n",
       "1                    gut  \n",
       "2                    gut  \n",
       "3                    gut  \n",
       "4               sehr gut  \n",
       "...                  ...  \n",
       "34943           sehr gut  \n",
       "34944           sehr gut  \n",
       "34945                gut  \n",
       "34946           sehr gut  \n",
       "34947           sehr gut  \n",
       "\n",
       "[34948 rows x 7 columns]"
      ]
     },
     "execution_count": 29,
     "metadata": {},
     "output_type": "execute_result"
    }
   ],
   "source": [
    "# KUF: Schauen Sie sich den Inhalt des Dataframes an.\n",
    "# Hier sind neben Datum und Uhrzeiten unter anderen Feinstaub- und \n",
    "# Ozonwerte zu finden.\n",
    "\n",
    "air_quality"
   ]
  },
  {
   "cell_type": "code",
   "execution_count": 30,
   "id": "medium-trigger",
   "metadata": {},
   "outputs": [
    {
     "data": {
      "text/html": [
       "<div>\n",
       "<style scoped>\n",
       "    .dataframe tbody tr th:only-of-type {\n",
       "        vertical-align: middle;\n",
       "    }\n",
       "\n",
       "    .dataframe tbody tr th {\n",
       "        vertical-align: top;\n",
       "    }\n",
       "\n",
       "    .dataframe thead th {\n",
       "        text-align: right;\n",
       "    }\n",
       "</style>\n",
       "<table border=\"1\" class=\"dataframe\">\n",
       "  <thead>\n",
       "    <tr style=\"text-align: right;\">\n",
       "      <th></th>\n",
       "      <th>Feinstaub</th>\n",
       "      <th>Ozon</th>\n",
       "      <th>Stickstoffdioxid</th>\n",
       "    </tr>\n",
       "  </thead>\n",
       "  <tbody>\n",
       "    <tr>\n",
       "      <th>count</th>\n",
       "      <td>34525.000000</td>\n",
       "      <td>16212.000000</td>\n",
       "      <td>33458.000000</td>\n",
       "    </tr>\n",
       "    <tr>\n",
       "      <th>mean</th>\n",
       "      <td>15.553990</td>\n",
       "      <td>40.104793</td>\n",
       "      <td>26.725641</td>\n",
       "    </tr>\n",
       "    <tr>\n",
       "      <th>std</th>\n",
       "      <td>8.236745</td>\n",
       "      <td>28.387419</td>\n",
       "      <td>15.378477</td>\n",
       "    </tr>\n",
       "    <tr>\n",
       "      <th>min</th>\n",
       "      <td>0.000000</td>\n",
       "      <td>0.000000</td>\n",
       "      <td>0.600000</td>\n",
       "    </tr>\n",
       "    <tr>\n",
       "      <th>25%</th>\n",
       "      <td>10.000000</td>\n",
       "      <td>16.000000</td>\n",
       "      <td>15.000000</td>\n",
       "    </tr>\n",
       "    <tr>\n",
       "      <th>50%</th>\n",
       "      <td>14.000000</td>\n",
       "      <td>38.000000</td>\n",
       "      <td>25.000000</td>\n",
       "    </tr>\n",
       "    <tr>\n",
       "      <th>75%</th>\n",
       "      <td>19.000000</td>\n",
       "      <td>59.000000</td>\n",
       "      <td>35.000000</td>\n",
       "    </tr>\n",
       "    <tr>\n",
       "      <th>max</th>\n",
       "      <td>86.000000</td>\n",
       "      <td>177.000000</td>\n",
       "      <td>172.000000</td>\n",
       "    </tr>\n",
       "  </tbody>\n",
       "</table>\n",
       "</div>"
      ],
      "text/plain": [
       "          Feinstaub          Ozon  Stickstoffdioxid\n",
       "count  34525.000000  16212.000000      33458.000000\n",
       "mean      15.553990     40.104793         26.725641\n",
       "std        8.236745     28.387419         15.378477\n",
       "min        0.000000      0.000000          0.600000\n",
       "25%       10.000000     16.000000         15.000000\n",
       "50%       14.000000     38.000000         25.000000\n",
       "75%       19.000000     59.000000         35.000000\n",
       "max       86.000000    177.000000        172.000000"
      ]
     },
     "execution_count": 30,
     "metadata": {},
     "output_type": "execute_result"
    }
   ],
   "source": [
    "# KB: Auch hier können Sie sich für die numerischen Spalten die statistischen\n",
    "# Kennzahlen anzeigen lassen.\n",
    "\n",
    "air_quality.describe()"
   ]
  },
  {
   "cell_type": "code",
   "execution_count": 31,
   "id": "african-trance",
   "metadata": {},
   "outputs": [
    {
     "data": {
      "text/plain": [
       "0        16.0\n",
       "1        16.0\n",
       "2        16.0\n",
       "3        16.0\n",
       "4        16.0\n",
       "         ... \n",
       "34943    11.0\n",
       "34944    11.0\n",
       "34945    11.0\n",
       "34946    10.0\n",
       "34947    10.0\n",
       "Name: Feinstaub, Length: 34948, dtype: float64"
      ]
     },
     "execution_count": 31,
     "metadata": {},
     "output_type": "execute_result"
    }
   ],
   "source": [
    "# KUF: Einzelne Spalten, in pandas Series genannt, können durch eckige Klammern und \n",
    "# den Spaltennamen angesprochen werden. Hier am Beispiel der Feinstaubspalte.\n",
    "\n",
    "air_quality[\"Feinstaub\"]"
   ]
  },
  {
   "cell_type": "code",
   "execution_count": 32,
   "id": "dense-budget",
   "metadata": {},
   "outputs": [
    {
     "data": {
      "image/png": "[encoded data removed]",
      "text/plain": [
       "<Figure size 432x288 with 1 Axes>"
      ]
     },
     "metadata": {
      "needs_background": "light"
     },
     "output_type": "display_data"
    }
   ],
   "source": [
    "# KB: Einzelne Spalten besitzen eine Methode names hist, mit der die Verteilung der Werte\n",
    "# als Histogramm dargestellt werden können. Dabei wird der Wertebereich \n",
    "# alle Werte in der Spalte in 10 gleich große Bereiche aufgeteilt. Es wird \n",
    "# dann gezählt wie viele der Werte in den jeweiligen Bereich fallen und \n",
    "# dies als Balkenlänge dargestellt.\n",
    "\n",
    "fig_2 = air_quality[\"Feinstaub\"].hist()"
   ]
  },
  {
   "cell_type": "code",
   "execution_count": 33,
   "id": "expensive-scotland",
   "metadata": {},
   "outputs": [],
   "source": [
    "# KUF: Als letzte werden die beiden DataFrames an Hand einer gemeinsamen Spalte,\n",
    "# hier die Datums-Spalte, zusammengefügt. Dabei ist zu beachten, dass der \n",
    "# DataFrame mit den Luftqualitätsdaten sehr viel mehr Einträge besitzt als der \n",
    "# Temperatur-DataFrame. \n",
    "\n",
    "# Hierzu nutzen Sie die Methode merge des DataFrames air_quality und übergeben \n",
    "# den anderen DataFrame weather als erstes Argument. Als sogenannte Keyword-Argumente\n",
    "# geben Sie die Namen der beiden Spalten mit. \"left_on\" mit dem Spaltennamen \n",
    "# im air_quality-DataFrame und right_on mit dem Spaltennamen im weather-DataFrame.\n",
    "\n",
    "air_quality_and_weather = air_quality.merge(weather, left_on=\"Datum\", right_on=\"date\")"
   ]
  },
  {
   "cell_type": "code",
   "execution_count": 34,
   "id": "specified-peninsula",
   "metadata": {},
   "outputs": [
    {
     "data": {
      "text/html": [
       "<div>\n",
       "<style scoped>\n",
       "    .dataframe tbody tr th:only-of-type {\n",
       "        vertical-align: middle;\n",
       "    }\n",
       "\n",
       "    .dataframe tbody tr th {\n",
       "        vertical-align: top;\n",
       "    }\n",
       "\n",
       "    .dataframe thead th {\n",
       "        text-align: right;\n",
       "    }\n",
       "</style>\n",
       "<table border=\"1\" class=\"dataframe\">\n",
       "  <thead>\n",
       "    <tr style=\"text-align: right;\">\n",
       "      <th></th>\n",
       "      <th>Stationscode</th>\n",
       "      <th>Datum</th>\n",
       "      <th>Uhrzeit</th>\n",
       "      <th>Feinstaub</th>\n",
       "      <th>Ozon</th>\n",
       "      <th>Stickstoffdioxid</th>\n",
       "      <th>Luftqualitätsindex</th>\n",
       "      <th>date</th>\n",
       "      <th>tmin</th>\n",
       "      <th>tmax</th>\n",
       "    </tr>\n",
       "  </thead>\n",
       "  <tbody>\n",
       "    <tr>\n",
       "      <th>0</th>\n",
       "      <td>DENW211</td>\n",
       "      <td>2020-11-01</td>\n",
       "      <td>01:00</td>\n",
       "      <td>16.0</td>\n",
       "      <td>NaN</td>\n",
       "      <td>18.0</td>\n",
       "      <td>sehr gut</td>\n",
       "      <td>2020-11-01</td>\n",
       "      <td>12.8</td>\n",
       "      <td>18.2</td>\n",
       "    </tr>\n",
       "    <tr>\n",
       "      <th>1</th>\n",
       "      <td>DENW211</td>\n",
       "      <td>2020-11-01</td>\n",
       "      <td>02:00</td>\n",
       "      <td>16.0</td>\n",
       "      <td>NaN</td>\n",
       "      <td>22.0</td>\n",
       "      <td>gut</td>\n",
       "      <td>2020-11-01</td>\n",
       "      <td>12.8</td>\n",
       "      <td>18.2</td>\n",
       "    </tr>\n",
       "    <tr>\n",
       "      <th>2</th>\n",
       "      <td>DENW211</td>\n",
       "      <td>2020-11-01</td>\n",
       "      <td>03:00</td>\n",
       "      <td>16.0</td>\n",
       "      <td>NaN</td>\n",
       "      <td>21.0</td>\n",
       "      <td>gut</td>\n",
       "      <td>2020-11-01</td>\n",
       "      <td>12.8</td>\n",
       "      <td>18.2</td>\n",
       "    </tr>\n",
       "    <tr>\n",
       "      <th>3</th>\n",
       "      <td>DENW211</td>\n",
       "      <td>2020-11-01</td>\n",
       "      <td>04:00</td>\n",
       "      <td>16.0</td>\n",
       "      <td>NaN</td>\n",
       "      <td>22.0</td>\n",
       "      <td>gut</td>\n",
       "      <td>2020-11-01</td>\n",
       "      <td>12.8</td>\n",
       "      <td>18.2</td>\n",
       "    </tr>\n",
       "    <tr>\n",
       "      <th>4</th>\n",
       "      <td>DENW211</td>\n",
       "      <td>2020-11-01</td>\n",
       "      <td>05:00</td>\n",
       "      <td>16.0</td>\n",
       "      <td>NaN</td>\n",
       "      <td>NaN</td>\n",
       "      <td>sehr gut</td>\n",
       "      <td>2020-11-01</td>\n",
       "      <td>12.8</td>\n",
       "      <td>18.2</td>\n",
       "    </tr>\n",
       "    <tr>\n",
       "      <th>...</th>\n",
       "      <td>...</td>\n",
       "      <td>...</td>\n",
       "      <td>...</td>\n",
       "      <td>...</td>\n",
       "      <td>...</td>\n",
       "      <td>...</td>\n",
       "      <td>...</td>\n",
       "      <td>...</td>\n",
       "      <td>...</td>\n",
       "      <td>...</td>\n",
       "    </tr>\n",
       "    <tr>\n",
       "      <th>34943</th>\n",
       "      <td>DENW212</td>\n",
       "      <td>2021-10-31</td>\n",
       "      <td>02:00</td>\n",
       "      <td>11.0</td>\n",
       "      <td>NaN</td>\n",
       "      <td>50.0</td>\n",
       "      <td>mäßig</td>\n",
       "      <td>2021-10-31</td>\n",
       "      <td>9.0</td>\n",
       "      <td>17.9</td>\n",
       "    </tr>\n",
       "    <tr>\n",
       "      <th>34944</th>\n",
       "      <td>DENW053</td>\n",
       "      <td>2021-10-31</td>\n",
       "      <td>01:00</td>\n",
       "      <td>9.0</td>\n",
       "      <td>11.0</td>\n",
       "      <td>35.0</td>\n",
       "      <td>gut</td>\n",
       "      <td>2021-10-31</td>\n",
       "      <td>9.0</td>\n",
       "      <td>17.9</td>\n",
       "    </tr>\n",
       "    <tr>\n",
       "      <th>34945</th>\n",
       "      <td>DENW053</td>\n",
       "      <td>2021-10-31</td>\n",
       "      <td>02:00</td>\n",
       "      <td>8.0</td>\n",
       "      <td>17.0</td>\n",
       "      <td>24.0</td>\n",
       "      <td>gut</td>\n",
       "      <td>2021-10-31</td>\n",
       "      <td>9.0</td>\n",
       "      <td>17.9</td>\n",
       "    </tr>\n",
       "    <tr>\n",
       "      <th>34946</th>\n",
       "      <td>DENW059</td>\n",
       "      <td>2021-10-31</td>\n",
       "      <td>01:00</td>\n",
       "      <td>10.0</td>\n",
       "      <td>7.0</td>\n",
       "      <td>17.0</td>\n",
       "      <td>sehr gut</td>\n",
       "      <td>2021-10-31</td>\n",
       "      <td>9.0</td>\n",
       "      <td>17.9</td>\n",
       "    </tr>\n",
       "    <tr>\n",
       "      <th>34947</th>\n",
       "      <td>DENW059</td>\n",
       "      <td>2021-10-31</td>\n",
       "      <td>02:00</td>\n",
       "      <td>10.0</td>\n",
       "      <td>4.0</td>\n",
       "      <td>10.0</td>\n",
       "      <td>sehr gut</td>\n",
       "      <td>2021-10-31</td>\n",
       "      <td>9.0</td>\n",
       "      <td>17.9</td>\n",
       "    </tr>\n",
       "  </tbody>\n",
       "</table>\n",
       "<p>34948 rows × 10 columns</p>\n",
       "</div>"
      ],
      "text/plain": [
       "      Stationscode       Datum Uhrzeit  Feinstaub  Ozon  Stickstoffdioxid  \\\n",
       "0          DENW211  2020-11-01   01:00       16.0   NaN              18.0   \n",
       "1          DENW211  2020-11-01   02:00       16.0   NaN              22.0   \n",
       "2          DENW211  2020-11-01   03:00       16.0   NaN              21.0   \n",
       "3          DENW211  2020-11-01   04:00       16.0   NaN              22.0   \n",
       "4          DENW211  2020-11-01   05:00       16.0   NaN               NaN   \n",
       "...            ...         ...     ...        ...   ...               ...   \n",
       "34943      DENW212  2021-10-31   02:00       11.0   NaN              50.0   \n",
       "34944      DENW053  2021-10-31   01:00        9.0  11.0              35.0   \n",
       "34945      DENW053  2021-10-31   02:00        8.0  17.0              24.0   \n",
       "34946      DENW059  2021-10-31   01:00       10.0   7.0              17.0   \n",
       "34947      DENW059  2021-10-31   02:00       10.0   4.0              10.0   \n",
       "\n",
       "      Luftqualitätsindex        date  tmin  tmax  \n",
       "0               sehr gut  2020-11-01  12.8  18.2  \n",
       "1                    gut  2020-11-01  12.8  18.2  \n",
       "2                    gut  2020-11-01  12.8  18.2  \n",
       "3                    gut  2020-11-01  12.8  18.2  \n",
       "4               sehr gut  2020-11-01  12.8  18.2  \n",
       "...                  ...         ...   ...   ...  \n",
       "34943              mäßig  2021-10-31   9.0  17.9  \n",
       "34944                gut  2021-10-31   9.0  17.9  \n",
       "34945                gut  2021-10-31   9.0  17.9  \n",
       "34946           sehr gut  2021-10-31   9.0  17.9  \n",
       "34947           sehr gut  2021-10-31   9.0  17.9  \n",
       "\n",
       "[34948 rows x 10 columns]"
      ]
     },
     "execution_count": 34,
     "metadata": {},
     "output_type": "execute_result"
    }
   ],
   "source": [
    "# KB: Das Ergebnis speichern Sie in der Variable air_quality_and_weather. Schauen\n",
    "# Sie sich das Ergebnis einmal an.\n",
    "\n",
    "air_quality_and_weather"
   ]
  },
  {
   "cell_type": "code",
   "execution_count": 35,
   "id": "satellite-frequency",
   "metadata": {},
   "outputs": [
    {
     "data": {
      "image/png": "[encoded data removed]",
      "text/plain": [
       "<Figure size 432x288 with 1 Axes>"
      ]
     },
     "metadata": {
      "needs_background": "light"
     },
     "output_type": "display_data"
    }
   ],
   "source": [
    "# KB: Jetzt können Sie Wert beider Datensätze in Zusammenhang bringen.\n",
    "# Ist bei hoher Temperatur, der Feinstaubgehalt hoch?\n",
    "# Dies scheint nicht der Fall zu sein.\n",
    "\n",
    "fig_3 = air_quality_and_weather.plot.scatter(x=\"Feinstaub\", y=\"tmin\")"
   ]
  }
 ],
 "metadata": {
  "kernelspec": {
   "display_name": "Python 3",
   "language": "python",
   "name": "python3"
  },
  "language_info": {
   "codemirror_mode": {
    "name": "ipython",
    "version": 3
   },
   "file_extension": ".py",
   "mimetype": "text/x-python",
   "name": "python",
   "nbconvert_exporter": "python",
   "pygments_lexer": "ipython3",
   "version": "3.9.6"
  }
 },
 "nbformat": 4,
 "nbformat_minor": 5
}
